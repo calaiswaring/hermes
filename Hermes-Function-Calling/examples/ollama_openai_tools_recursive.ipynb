{
 "cells": [
  {
   "cell_type": "markdown",
   "metadata": {},
   "source": [
    "## Recursive Function Calling with Ollama\n",
    "\n",
    "### Requirements\n",
    "\n",
    "#### 1. Ollama\n",
    "\n",
    "Ollama installation instructions per OS (macOS, Linux, Windows) can be found on [their website](https://ollama.com/download). For Linux simply (run cell below if not installed): "
   ]
  },
  {
   "cell_type": "code",
   "execution_count": null,
   "metadata": {},
   "outputs": [],
   "source": [
    "!curl -fsSL https://ollama.com/install.sh | sh"
   ]
  },
  {
   "cell_type": "markdown",
   "metadata": {},
   "source": [
    "#### 2. Python Ollama Library\n",
    "\n",
    "For that:"
   ]
  },
  {
   "cell_type": "code",
   "execution_count": null,
   "metadata": {},
   "outputs": [],
   "source": [
    "%pip install ollama"
   ]
  },
  {
   "cell_type": "markdown",
   "metadata": {},
   "source": [
    "#### 3. Pull the model from Ollama\n",
    "\n",
    "Download the q8 quantized NousHermes-2-Pro-Mistral-7B from Ollama (uploaded by adrienbrault):"
   ]
  },
  {
   "cell_type": "code",
   "execution_count": 130,
   "metadata": {},
   "outputs": [
    {
     "name": "stderr",
     "output_type": "stream",
     "text": [
      "python(64497) MallocStackLogging: can't turn off malloc stack logging because it was not enabled.\n"
     ]
    },
    {
     "name": "stdout",
     "output_type": "stream",
     "text": [
      "\u001b[?25lpulling manifest ⠋ \u001b[?25h\u001b[?25l\u001b[2K\u001b[1Gpulling manifest ⠙ \u001b[?25h\u001b[?25l\u001b[2K\u001b[1Gpulling manifest ⠹ \u001b[?25h\u001b[?25l\u001b[2K\u001b[1Gpulling manifest ⠸ \u001b[?25h\u001b[?25l\u001b[2K\u001b[1Gpulling manifest ⠼ \u001b[?25h\u001b[?25l\u001b[2K\u001b[1Gpulling manifest ⠴ \u001b[?25h\u001b[?25l\u001b[2K\u001b[1Gpulling manifest ⠦ \u001b[?25h\u001b[?25l\u001b[2K\u001b[1Gpulling manifest ⠧ \u001b[?25h\u001b[?25l\u001b[2K\u001b[1Gpulling manifest ⠇ \u001b[?25h\u001b[?25l\u001b[2K\u001b[1Gpulling manifest ⠏ \u001b[?25h\u001b[?25l\u001b[2K\u001b[1Gpulling manifest ⠋ \u001b[?25h\u001b[?25l\u001b[2K\u001b[1Gpulling manifest ⠙ \u001b[?25h\u001b[?25l\u001b[2K\u001b[1Gpulling manifest ⠹ \u001b[?25h\u001b[?25l\u001b[2K\u001b[1Gpulling manifest ⠸ \u001b[?25h\u001b[?25l\u001b[2K\u001b[1Gpulling manifest ⠼ \u001b[?25h\u001b[?25l\u001b[2K\u001b[1Gpulling manifest ⠴ \u001b[?25h\u001b[?25l\u001b[2K\u001b[1Gpulling manifest ⠦ \u001b[?25h\u001b[?25l\u001b[2K\u001b[1Gpulling manifest ⠧ \u001b[?25h\u001b[?25l\u001b[2K\u001b[1Gpulling manifest ⠇ \u001b[?25h\u001b[?25l\u001b[2K\u001b[1Gpulling manifest ⠏ \u001b[?25h\u001b[?25l\u001b[2K\u001b[1Gpulling manifest ⠋ \u001b[?25h\u001b[?25l\u001b[2K\u001b[1Gpulling manifest ⠙ \u001b[?25h\u001b[?25l\u001b[2K\u001b[1Gpulling manifest ⠹ \u001b[?25h\u001b[?25l\u001b[2K\u001b[1Gpulling manifest ⠸ \u001b[?25h\u001b[?25l\u001b[2K\u001b[1Gpulling manifest ⠼ \u001b[?25h\u001b[?25l\u001b[2K\u001b[1Gpulling manifest ⠴ \u001b[?25h\u001b[?25l\u001b[2K\u001b[1Gpulling manifest ⠦ \u001b[?25h\u001b[?25l\u001b[2K\u001b[1Gpulling manifest ⠧ \u001b[?25h\u001b[?25l\u001b[2K\u001b[1Gpulling manifest ⠇ \u001b[?25h\u001b[?25l\u001b[2K\u001b[1Gpulling manifest ⠏ \u001b[?25h\u001b[?25l\u001b[2K\u001b[1Gpulling manifest ⠋ \u001b[?25h\u001b[?25l\u001b[2K\u001b[1Gpulling manifest ⠙ \u001b[?25h\u001b[?25l\u001b[2K\u001b[1Gpulling manifest ⠹ \u001b[?25h\u001b[?25l\u001b[2K\u001b[1Gpulling manifest ⠸ \u001b[?25h\u001b[?25l\u001b[2K\u001b[1Gpulling manifest ⠼ \u001b[?25h\u001b[?25l\u001b[2K\u001b[1Gpulling manifest ⠴ \u001b[?25h\u001b[?25l\u001b[2K\u001b[1Gpulling manifest ⠦ \u001b[?25h\u001b[?25l\u001b[2K\u001b[1Gpulling manifest ⠧ \u001b[?25h\u001b[?25l\u001b[2K\u001b[1Gpulling manifest ⠇ \u001b[?25h\u001b[?25l\u001b[2K\u001b[1Gpulling manifest ⠏ \u001b[?25h\u001b[?25l\u001b[2K\u001b[1Gpulling manifest ⠋ \u001b[?25h\u001b[?25l\u001b[2K\u001b[1Gpulling manifest ⠙ \u001b[?25h\u001b[?25l\u001b[2K\u001b[1Gpulling manifest ⠹ \u001b[?25h\u001b[?25l\u001b[2K\u001b[1Gpulling manifest ⠸ \u001b[?25h\u001b[?25l\u001b[2K\u001b[1Gpulling manifest ⠼ \u001b[?25h\u001b[?25l\u001b[2K\u001b[1Gpulling manifest ⠴ \u001b[?25h\u001b[?25l\u001b[2K\u001b[1Gpulling manifest ⠦ \u001b[?25h\u001b[?25l\u001b[2K\u001b[1Gpulling manifest ⠧ \u001b[?25h\u001b[?25l\u001b[2K\u001b[1Gpulling manifest ⠇ \u001b[?25h\u001b[?25l\u001b[2K\u001b[1Gpulling manifest ⠏ \u001b[?25h\u001b[?25l\u001b[2K\u001b[1Gpulling manifest ⠋ \u001b[?25h\u001b[?25l\u001b[2K\u001b[1Gpulling manifest \n",
      "pulling 10c52a482013... 100% ▕████████████████▏ 4.9 GB                         \n",
      "pulling bb5d712dec0d... 100% ▕████████████████▏ 1.5 KB                         \n",
      "pulling f02dd72bb242... 100% ▕████████████████▏   59 B                         \n",
      "pulling 5395efbd179e... 100% ▕████████████████▏  413 B                         \n",
      "verifying sha256 digest \n",
      "writing manifest \n",
      "removing any unused layers \n",
      "success \u001b[?25h\n"
     ]
    }
   ],
   "source": [
    "!ollama pull interstellarninja/hermes-2-pro-llama-3-8b-tools"
   ]
  },
  {
   "cell_type": "markdown",
   "metadata": {},
   "source": [
    "### Usage\n",
    "\n",
    "#### 1. Define Tools"
   ]
  },
  {
   "cell_type": "code",
   "execution_count": 30,
   "metadata": {},
   "outputs": [],
   "source": [
    "import requests\n",
    "import random\n",
    "from datetime import datetime\n",
    "import pytz\n",
    "import time\n",
    "import json\n",
    "\n",
    "def get_weather_forecast(location: str) -> dict[str, str]:\n",
    "    \"\"\"Retrieves a simple weather forecast for a given location\"\"\"\n",
    "    url = f\"https://wttr.in/{location}?format=%C,%t\"\n",
    "    response = requests.get(url)\n",
    "    if response.status_code == 200:\n",
    "        condition, temperature = response.text.strip().split(',')\n",
    "        return {\n",
    "            \"location\": location,\n",
    "            \"forecast\": condition,\n",
    "            \"temperature\": temperature\n",
    "        }\n",
    "    else:\n",
    "        return {\"error\": \"Unable to fetch weather data\"}\n",
    "\n",
    "\n",
    "def get_stock_price(symbol: str) -> float:\n",
    "    \"\"\"Retrieves the stock price for a given symbol\"\"\"\n",
    "    api_key = \"your_stock_api_key\"\n",
    "    url = f\"https://www.alphavantage.co/query?function=GLOBAL_QUOTE&symbol={symbol}&apikey={api_key}\"\n",
    "    response = requests.get(url)\n",
    "    data = response.json()\n",
    "    return float(data[\"Global Quote\"][\"05. price\"])\n",
    "\n",
    "def get_random_number(min_value: int, max_value: int) -> int:\n",
    "    \"\"\"Returns a random number between min_value and max_value\"\"\"\n",
    "    return random.randint(min_value, max_value)\n",
    "\n",
    "def get_current_time(time_zone: str, format: str) -> str:\n",
    "    \"\"\"Returns the current time in the specified time zone and format\"\"\"\n",
    "    tz = pytz.timezone(time_zone)\n",
    "    current_time = datetime.now(tz)\n",
    "    return current_time.strftime(format)\n",
    "\n",
    "def speak_to_user(assistant_message) -> str:\n",
    "    \"\"\"Opens a text input widget for the user to provide feedback or confirm something\"\"\"\n",
    "    print(assistant_message)\n",
    "    user_input = input(\"Please provide your feedback or confirmation: \")\n",
    "    time.sleep(5)  # Wait for 5 seconds\n",
    "    return user_input\n",
    "\n",
    "def get_user_location(accuracy: int) -> str:\n",
    "    \"\"\"\n",
    "    Returns the user's location based on the public IP address and accuracy level.\n",
    "    \n",
    "    Parameters:\n",
    "    accuracy (int): The level of detail for the location information.\n",
    "        1 - Country only\n",
    "        2 - City and country\n",
    "        3 - City, region, and country\n",
    "    \n",
    "    Returns:\n",
    "    str: The location information based on the specified accuracy level or an error message.\n",
    "    \"\"\"\n",
    "    try:\n",
    "        # Retrieve public IP address\n",
    "        ip_response = requests.get('https://api.ipify.org?format=json')\n",
    "        ip_response.raise_for_status()\n",
    "        ip_address = ip_response.json().get('ip')\n",
    "        \n",
    "        # Use public IP to get location data\n",
    "        location_url = f\"http://ip-api.com/json/{ip_address}\"\n",
    "        location_response = requests.get(location_url)\n",
    "        location_response.raise_for_status()\n",
    "        data = location_response.json()\n",
    "        \n",
    "        if data['status'] == 'fail':\n",
    "            return f\"Error in get_user_location: {data.get('message', 'Unknown error')}\"\n",
    "        \n",
    "        if accuracy == 1:\n",
    "            return data.get(\"country\", \"Unknown country\")\n",
    "        elif accuracy == 2:\n",
    "            return f\"{data.get('city', 'Unknown city')}, {data.get('country', 'Unknown country')}\"\n",
    "        elif accuracy == 3:\n",
    "            return f\"{data.get('city', 'Unknown city')}, {data.get('regionName', 'Unknown region')}, {data.get('country', 'Unknown country')}\"\n",
    "        else:\n",
    "            return \"Invalid accuracy level. Please specify 1 (Country), 2 (City and Country), or 3 (City, Region, and Country).\"\n",
    "    except requests.RequestException as e:\n",
    "        return f\"Error: {e}\"\n"
   ]
  },
  {
   "cell_type": "code",
   "execution_count": 31,
   "metadata": {},
   "outputs": [],
   "source": [
    "def test_functions():\n",
    "    print(\"Testing get_weather_forecast:\")\n",
    "    try:\n",
    "        weather = get_weather_forecast(\"London\")\n",
    "        print(f\"Weather in London: {weather}\")\n",
    "    except Exception as e:\n",
    "        print(f\"Error in get_weather_forecast: {str(e)}\")\n",
    "\n",
    "    print(\"\\nTesting get_stock_price:\")\n",
    "    try:\n",
    "        price = get_stock_price(\"AAPL\")\n",
    "        print(f\"Current price of AAPL: ${price:.2f}\")\n",
    "    except Exception as e:\n",
    "        print(f\"Error in get_stock_price: {str(e)}\")\n",
    "\n",
    "    print(\"\\nTesting get_random_number:\")\n",
    "    try:\n",
    "        number = get_random_number(2, 42)\n",
    "        print(f\"Random number between 1 and 100: {number}\")\n",
    "    except Exception as e:\n",
    "        print(f\"Error in get_random_number: {str(e)}\")\n",
    "\n",
    "    print(\"\\nTesting get_current_time:\")\n",
    "    try:\n",
    "        time = get_current_time(\"America/New_York\", \"%Y-%m-%d %H:%M:%S\")\n",
    "        print(f\"Current time in New York: {time}\")\n",
    "    except Exception as e:\n",
    "        print(f\"Error in get_current_time: {str(e)}\")\n",
    "\n",
    "    print(\"\\nTesting get_user_location:\")\n",
    "    try:\n",
    "        location = get_user_location(2)\n",
    "        print(f\"Location for user's ip address: {location}\")\n",
    "    except Exception as e:\n",
    "        print(f\"Error in get_user_location: {str(e)}\")"
   ]
  },
  {
   "cell_type": "code",
   "execution_count": 32,
   "metadata": {},
   "outputs": [
    {
     "name": "stdout",
     "output_type": "stream",
     "text": [
      "Testing get_weather_forecast:\n",
      "Weather in London: {'location': 'London', 'forecast': 'Cloudy ', 'temperature': '+24°C'}\n",
      "\n",
      "Testing get_stock_price:\n",
      "Current price of AAPL: $224.31\n",
      "\n",
      "Testing get_random_number:\n",
      "Random number between 1 and 100: 26\n",
      "\n",
      "Testing get_current_time:\n",
      "Current time in New York: 2024-07-21 10:52:13\n",
      "\n",
      "Testing get_user_location:\n",
      "Location for user's ip address: Shibuya, Japan\n"
     ]
    }
   ],
   "source": [
    "test_functions()"
   ]
  },
  {
   "cell_type": "code",
   "execution_count": 33,
   "metadata": {},
   "outputs": [
    {
     "name": "stdout",
     "output_type": "stream",
     "text": [
      "Do you confirm\n"
     ]
    },
    {
     "data": {
      "text/plain": [
       "'Yes I confirm!'"
      ]
     },
     "execution_count": 33,
     "metadata": {},
     "output_type": "execute_result"
    }
   ],
   "source": [
    "speak_to_user(assistant_message=\"Do you confirm\")"
   ]
  },
  {
   "cell_type": "code",
   "execution_count": 34,
   "metadata": {},
   "outputs": [],
   "source": [
    "from langchain_core.utils.function_calling import convert_to_openai_tool\n",
    "\n",
    "functions = [\n",
    "    get_weather_forecast,\n",
    "    get_stock_price,\n",
    "    get_random_number,\n",
    "    get_current_time,\n",
    "    get_user_location,\n",
    "    speak_to_user\n",
    "]\n",
    "\n",
    "tools = [convert_to_openai_tool(t) for t in functions]"
   ]
  },
  {
   "cell_type": "code",
   "execution_count": 35,
   "metadata": {},
   "outputs": [
    {
     "name": "stdout",
     "output_type": "stream",
     "text": [
      "[\n",
      "  {\n",
      "    \"type\": \"function\",\n",
      "    \"function\": {\n",
      "      \"name\": \"get_weather_forecast\",\n",
      "      \"description\": \"Retrieves a simple weather forecast for a given location\",\n",
      "      \"parameters\": {\n",
      "        \"type\": \"object\",\n",
      "        \"properties\": {\n",
      "          \"location\": {\n",
      "            \"type\": \"string\"\n",
      "          }\n",
      "        },\n",
      "        \"required\": [\n",
      "          \"location\"\n",
      "        ]\n",
      "      }\n",
      "    }\n",
      "  },\n",
      "  {\n",
      "    \"type\": \"function\",\n",
      "    \"function\": {\n",
      "      \"name\": \"get_stock_price\",\n",
      "      \"description\": \"Retrieves the stock price for a given symbol\",\n",
      "      \"parameters\": {\n",
      "        \"type\": \"object\",\n",
      "        \"properties\": {\n",
      "          \"symbol\": {\n",
      "            \"type\": \"string\"\n",
      "          }\n",
      "        },\n",
      "        \"required\": [\n",
      "          \"symbol\"\n",
      "        ]\n",
      "      }\n",
      "    }\n",
      "  },\n",
      "  {\n",
      "    \"type\": \"function\",\n",
      "    \"function\": {\n",
      "      \"name\": \"get_random_number\",\n",
      "      \"description\": \"Returns a random number between min_value and max_value\",\n",
      "      \"parameters\": {\n",
      "        \"type\": \"object\",\n",
      "        \"properties\": {\n",
      "          \"min_value\": {\n",
      "            \"type\": \"integer\"\n",
      "          },\n",
      "          \"max_value\": {\n",
      "            \"type\": \"integer\"\n",
      "          }\n",
      "        },\n",
      "        \"required\": [\n",
      "          \"min_value\",\n",
      "          \"max_value\"\n",
      "        ]\n",
      "      }\n",
      "    }\n",
      "  },\n",
      "  {\n",
      "    \"type\": \"function\",\n",
      "    \"function\": {\n",
      "      \"name\": \"get_current_time\",\n",
      "      \"description\": \"Returns the current time in the specified time zone and format\",\n",
      "      \"parameters\": {\n",
      "        \"type\": \"object\",\n",
      "        \"properties\": {\n",
      "          \"time_zone\": {\n",
      "            \"type\": \"string\"\n",
      "          },\n",
      "          \"format\": {\n",
      "            \"type\": \"string\"\n",
      "          }\n",
      "        },\n",
      "        \"required\": [\n",
      "          \"time_zone\",\n",
      "          \"format\"\n",
      "        ]\n",
      "      }\n",
      "    }\n",
      "  },\n",
      "  {\n",
      "    \"type\": \"function\",\n",
      "    \"function\": {\n",
      "      \"name\": \"get_user_location\",\n",
      "      \"description\": \"Returns the user's location based on the public IP address and accuracy level. Parameters:\\naccuracy (int): The level of detail for the location information.\\n    1 - Country only\\n    2 - City and country\\n    3 - City, region, and country\",\n",
      "      \"parameters\": {\n",
      "        \"type\": \"object\",\n",
      "        \"properties\": {\n",
      "          \"accuracy\": {\n",
      "            \"type\": \"integer\"\n",
      "          }\n",
      "        },\n",
      "        \"required\": [\n",
      "          \"accuracy\"\n",
      "        ]\n",
      "      }\n",
      "    }\n",
      "  },\n",
      "  {\n",
      "    \"type\": \"function\",\n",
      "    \"function\": {\n",
      "      \"name\": \"speak_to_user\",\n",
      "      \"description\": \"Opens a text input widget for the user to provide feedback or confirm something\",\n",
      "      \"parameters\": {\n",
      "        \"type\": \"object\",\n",
      "        \"properties\": {},\n",
      "        \"required\": [\n",
      "          \"assistant_message\"\n",
      "        ]\n",
      "      }\n",
      "    }\n",
      "  }\n",
      "]\n"
     ]
    }
   ],
   "source": [
    "import json\n",
    "\n",
    "\n",
    "print(json.dumps(tools, indent=2))"
   ]
  },
  {
   "cell_type": "code",
   "execution_count": 44,
   "metadata": {},
   "outputs": [],
   "source": [
    "from openai import OpenAI\n",
    "\n",
    "client = OpenAI(\n",
    "    base_url = 'http://localhost:11434/v1',\n",
    "    api_key='ollama', # required, but unused\n",
    ")\n",
    "\n",
    "def run_hermes_tool_inference(messages, tools):\n",
    "    response = client.chat.completions.create(\n",
    "        model=\"interstellarninja/hermes-2-pro-llama-3-8b-tools:latest\",\n",
    "        messages = messages,\n",
    "        tools=tools\n",
    "    )\n",
    "\n",
    "    return response"
   ]
  },
  {
   "cell_type": "code",
   "execution_count": 127,
   "metadata": {},
   "outputs": [],
   "source": [
    "messages = [\n",
    "    {\"role\": \"user\", \"content\": \"Get the user's location first. Once you have the correct user's location, get current weather forecast. Call the functions one at a time sequentially without commenting or asking for confirmation\"}\n",
    "]"
   ]
  },
  {
   "cell_type": "code",
   "execution_count": 128,
   "metadata": {},
   "outputs": [],
   "source": [
    "def recursive_tool_calling():\n",
    "    while True:\n",
    "        response = run_hermes_tool_inference(messages, tools)\n",
    "\n",
    "        assistant_message = response.choices[0].message\n",
    "        messages.append(assistant_message)\n",
    "        print(f\"Assistant Message: {assistant_message}\")\n",
    "\n",
    "        if not assistant_message.tool_calls:\n",
    "            break\n",
    "\n",
    "        for tool_call in assistant_message.tool_calls:\n",
    "            function_call = tool_call.function\n",
    "            name = function_call.name\n",
    "            arguments = json.loads(function_call.arguments)\n",
    "            for function in functions:\n",
    "                if function.__name__ == name:\n",
    "                    print(f\"Invoking tool call: {name}\")\n",
    "                    result = function(**arguments)\n",
    "                    result_content = {\n",
    "                        \"name\": name,\n",
    "                        \"content\": result\n",
    "                    }\n",
    "                    messages.append(\n",
    "                        {\n",
    "                            \"role\": \"tool\",\n",
    "                            \"content\": json.dumps(result_content),\n",
    "                            \"tool_call_id\": tool_call.id\n",
    "                        }\n",
    "                    )\n",
    "                    print(f\"Tool Call Result: {result_content}\")\n",
    "                    break\n",
    "\n",
    "    response = run_hermes_tool_inference(messages, tools)\n",
    "    assistant_message = response.choices[0].message\n",
    "    messages.append(assistant_message)\n",
    "\n",
    "    return messages\n",
    "            "
   ]
  },
  {
   "cell_type": "code",
   "execution_count": 129,
   "metadata": {},
   "outputs": [
    {
     "name": "stdout",
     "output_type": "stream",
     "text": [
      "Assistant Message: ChatCompletionMessage(content='', role='assistant', function_call=None, tool_calls=[ChatCompletionMessageToolCall(id='call_75etsjm3', function=Function(arguments='{\"accuracy\":3}', name='get_user_location'), type='function')])\n",
      "Invoking tool call: get_user_location\n",
      "Tool Call Result: {'name': 'get_user_location', 'content': 'Shibuya, Tokyo, Japan'}\n",
      "Assistant Message: ChatCompletionMessage(content='', role='assistant', function_call=None, tool_calls=[ChatCompletionMessageToolCall(id='call_gg63d1c3', function=Function(arguments='{\"location\":\"Shibuya, Tokyo, Japan\"}', name='get_weather_forecast'), type='function')])\n",
      "Invoking tool call: get_weather_forecast\n",
      "Tool Call Result: {'name': 'get_weather_forecast', 'content': {'location': 'Shibuya, Tokyo, Japan', 'forecast': 'Clear ', 'temperature': '+29°C'}}\n",
      "Assistant Message: ChatCompletionMessage(content='It is currently clear in Shibuya, Tokyo, and the temperature is 29°C (82.2°F). Enjoy your day!', role='assistant', function_call=None, tool_calls=None)\n"
     ]
    }
   ],
   "source": [
    "messages = recursive_tool_calling()"
   ]
  }
 ],
 "metadata": {
  "kernelspec": {
   "display_name": "Python 3",
   "language": "python",
   "name": "python3"
  },
  "language_info": {
   "codemirror_mode": {
    "name": "ipython",
    "version": 3
   },
   "file_extension": ".py",
   "mimetype": "text/x-python",
   "name": "python",
   "nbconvert_exporter": "python",
   "pygments_lexer": "ipython3",
   "version": "3.12.2"
  }
 },
 "nbformat": 4,
 "nbformat_minor": 2
}
