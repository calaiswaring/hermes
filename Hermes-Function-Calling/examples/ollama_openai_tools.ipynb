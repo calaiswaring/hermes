{
 "cells": [
  {
   "cell_type": "markdown",
   "metadata": {},
   "source": [
    "## Function Calling with Ollama\n",
    "\n",
    "### Requirements\n",
    "\n",
    "#### 1. Ollama\n",
    "\n",
    "Ollama installation instructions per OS (macOS, Linux, Windows) can be found on [their website](https://ollama.com/download). For Linux simply (run cell below if not installed): "
   ]
  },
  {
   "cell_type": "code",
   "execution_count": null,
   "metadata": {},
   "outputs": [],
   "source": [
    "!curl -fsSL https://ollama.com/install.sh | sh"
   ]
  },
  {
   "cell_type": "markdown",
   "metadata": {},
   "source": [
    "#### 2. Python Ollama Library\n",
    "\n",
    "For that:"
   ]
  },
  {
   "cell_type": "code",
   "execution_count": 1,
   "metadata": {},
   "outputs": [
    {
     "name": "stdout",
     "output_type": "stream",
     "text": [
      "Collecting ollama\n",
      "  Downloading ollama-0.3.0-py3-none-any.whl.metadata (3.8 kB)\n",
      "Requirement already satisfied: httpx<0.28.0,>=0.27.0 in /opt/homebrew/anaconda3/envs/func-call-demo/lib/python3.12/site-packages (from ollama) (0.27.0)\n",
      "Requirement already satisfied: anyio in /opt/homebrew/anaconda3/envs/func-call-demo/lib/python3.12/site-packages (from httpx<0.28.0,>=0.27.0->ollama) (4.3.0)\n",
      "Requirement already satisfied: certifi in /opt/homebrew/anaconda3/envs/func-call-demo/lib/python3.12/site-packages (from httpx<0.28.0,>=0.27.0->ollama) (2024.2.2)\n",
      "Requirement already satisfied: httpcore==1.* in /opt/homebrew/anaconda3/envs/func-call-demo/lib/python3.12/site-packages (from httpx<0.28.0,>=0.27.0->ollama) (1.0.5)\n",
      "Requirement already satisfied: idna in /opt/homebrew/anaconda3/envs/func-call-demo/lib/python3.12/site-packages (from httpx<0.28.0,>=0.27.0->ollama) (3.6)\n",
      "Requirement already satisfied: sniffio in /opt/homebrew/anaconda3/envs/func-call-demo/lib/python3.12/site-packages (from httpx<0.28.0,>=0.27.0->ollama) (1.3.0)\n",
      "Requirement already satisfied: h11<0.15,>=0.13 in /opt/homebrew/anaconda3/envs/func-call-demo/lib/python3.12/site-packages (from httpcore==1.*->httpx<0.28.0,>=0.27.0->ollama) (0.14.0)\n",
      "Downloading ollama-0.3.0-py3-none-any.whl (10 kB)\n",
      "Installing collected packages: ollama\n",
      "Successfully installed ollama-0.3.0\n",
      "Note: you may need to restart the kernel to use updated packages.\n"
     ]
    }
   ],
   "source": [
    "%pip install ollama"
   ]
  },
  {
   "cell_type": "markdown",
   "metadata": {},
   "source": [
    "#### 3. Pull the model from Ollama\n",
    "\n",
    "Download the q8 quantized NousHermes-2-Pro-Mistral-7B from Ollama (uploaded by adrienbrault):"
   ]
  },
  {
   "cell_type": "code",
   "execution_count": null,
   "metadata": {},
   "outputs": [],
   "source": [
    "!ollama pull adrienbrault/nous-hermes2pro:Q8_0"
   ]
  },
  {
   "cell_type": "markdown",
   "metadata": {},
   "source": [
    "### Usage\n",
    "\n",
    "#### 1. Define Tools"
   ]
  },
  {
   "cell_type": "code",
   "execution_count": 31,
   "metadata": {},
   "outputs": [],
   "source": [
    "import requests\n",
    "import random\n",
    "from datetime import datetime\n",
    "import pytz\n",
    "\n",
    "def get_weather_forecast(location: str) -> dict[str, str]:\n",
    "    \"\"\"Retrieves a simple weather forecast for a given location\"\"\"\n",
    "    url = f\"https://wttr.in/{location}?format=%C,%t\"\n",
    "    response = requests.get(url)\n",
    "    if response.status_code == 200:\n",
    "        condition, temperature = response.text.strip().split(',')\n",
    "        return {\n",
    "            \"location\": location,\n",
    "            \"forecast\": condition,\n",
    "            \"temperature\": temperature\n",
    "        }\n",
    "    else:\n",
    "        return {\"error\": \"Unable to fetch weather data\"}\n",
    "\n",
    "\n",
    "def get_stock_price(symbol: str) -> float:\n",
    "    \"\"\"Retrieves the stock price for a given symbol\"\"\"\n",
    "    api_key = \"your_stock_api_key\"\n",
    "    url = f\"https://www.alphavantage.co/query?function=GLOBAL_QUOTE&symbol={symbol}&apikey={api_key}\"\n",
    "    response = requests.get(url)\n",
    "    data = response.json()\n",
    "    return float(data[\"Global Quote\"][\"05. price\"])\n",
    "\n",
    "def get_random_number(min_value: int, max_value: int) -> int:\n",
    "    \"\"\"Returns a random number between min_value and max_value\"\"\"\n",
    "    return random.randint(min_value, max_value)\n",
    "\n",
    "def get_current_time(time_zone: str, format: str) -> str:\n",
    "    \"\"\"Returns the current time in the specified time zone and format\"\"\"\n",
    "    tz = pytz.timezone(time_zone)\n",
    "    current_time = datetime.now(tz)\n",
    "    return current_time.strftime(format)\n",
    "\n",
    "def get_user_location(ip_address: str, accuracy: int) -> str:\n",
    "    \"\"\"Returns the user's location based on the provided IP address and accuracy level\"\"\"\n",
    "    url = f\"http://ip-api.com/json/{ip_address}\"\n",
    "    response = requests.get(url)\n",
    "    data = response.json()\n",
    "    if accuracy == 1:\n",
    "        return data[\"country\"]\n",
    "    elif accuracy == 2:\n",
    "        return f\"{data['city']}, {data['country']}\"\n",
    "    else:\n",
    "        return f\"{data['city']}, {data['region']}, {data['country']}\""
   ]
  },
  {
   "cell_type": "code",
   "execution_count": 32,
   "metadata": {},
   "outputs": [],
   "source": [
    "def test_functions():\n",
    "    print(\"Testing get_weather_forecast:\")\n",
    "    try:\n",
    "        weather = get_weather_forecast(\"London\")\n",
    "        print(f\"Weather in London: {weather}\")\n",
    "    except Exception as e:\n",
    "        print(f\"Error in get_weather_forecast: {str(e)}\")\n",
    "\n",
    "    print(\"\\nTesting get_stock_price:\")\n",
    "    try:\n",
    "        price = get_stock_price(\"AAPL\")\n",
    "        print(f\"Current price of AAPL: ${price:.2f}\")\n",
    "    except Exception as e:\n",
    "        print(f\"Error in get_stock_price: {str(e)}\")\n",
    "\n",
    "    print(\"\\nTesting get_random_number:\")\n",
    "    try:\n",
    "        number = get_random_number(2, 42)\n",
    "        print(f\"Random number between 1 and 100: {number}\")\n",
    "    except Exception as e:\n",
    "        print(f\"Error in get_random_number: {str(e)}\")\n",
    "\n",
    "    print(\"\\nTesting get_current_time:\")\n",
    "    try:\n",
    "        time = get_current_time(\"America/New_York\", \"%Y-%m-%d %H:%M:%S\")\n",
    "        print(f\"Current time in New York: {time}\")\n",
    "    except Exception as e:\n",
    "        print(f\"Error in get_current_time: {str(e)}\")\n",
    "\n",
    "    print(\"\\nTesting get_user_location:\")\n",
    "    try:\n",
    "        location = get_user_location(\"8.8.8.8\", 2)\n",
    "        print(f\"Location for IP 8.8.8.8: {location}\")\n",
    "    except Exception as e:\n",
    "        print(f\"Error in get_user_location: {str(e)}\")"
   ]
  },
  {
   "cell_type": "code",
   "execution_count": 33,
   "metadata": {},
   "outputs": [
    {
     "name": "stdout",
     "output_type": "stream",
     "text": [
      "Testing get_weather_forecast:\n",
      "Weather in London: {'location': 'London', 'forecast': 'Partly cloudy', 'temperature': '+22°C'}\n",
      "\n",
      "Testing get_stock_price:\n",
      "Current price of AAPL: $224.31\n",
      "\n",
      "Testing get_random_number:\n",
      "Random number between 1 and 100: 13\n",
      "\n",
      "Testing get_current_time:\n",
      "Current time in New York: 2024-07-20 13:19:54\n",
      "\n",
      "Testing get_user_location:\n",
      "Location for IP 8.8.8.8: Ashburn, United States\n"
     ]
    }
   ],
   "source": [
    "test_functions()"
   ]
  },
  {
   "cell_type": "code",
   "execution_count": 41,
   "metadata": {},
   "outputs": [],
   "source": [
    "from langchain_core.utils.function_calling import convert_to_openai_function\n",
    "\n",
    "functions = [\n",
    "    get_weather_forecast,\n",
    "    get_stock_price,\n",
    "    get_random_number,\n",
    "    get_current_time,\n",
    "    get_user_location\n",
    "]\n",
    "\n",
    "tools = [convert_to_openai_function(t) for t in tools]"
   ]
  },
  {
   "cell_type": "code",
   "execution_count": 43,
   "metadata": {},
   "outputs": [
    {
     "name": "stdout",
     "output_type": "stream",
     "text": [
      "[\n",
      "  {\n",
      "    \"name\": \"get_weather_forecast\",\n",
      "    \"description\": \"Retrieves a simple weather forecast for a given location\",\n",
      "    \"parameters\": {\n",
      "      \"type\": \"object\",\n",
      "      \"properties\": {\n",
      "        \"location\": {\n",
      "          \"type\": \"string\"\n",
      "        }\n",
      "      },\n",
      "      \"required\": [\n",
      "        \"location\"\n",
      "      ]\n",
      "    }\n",
      "  },\n",
      "  {\n",
      "    \"name\": \"get_stock_price\",\n",
      "    \"description\": \"Retrieves the stock price for a given symbol\",\n",
      "    \"parameters\": {\n",
      "      \"type\": \"object\",\n",
      "      \"properties\": {\n",
      "        \"symbol\": {\n",
      "          \"type\": \"string\"\n",
      "        }\n",
      "      },\n",
      "      \"required\": [\n",
      "        \"symbol\"\n",
      "      ]\n",
      "    }\n",
      "  },\n",
      "  {\n",
      "    \"name\": \"get_random_number\",\n",
      "    \"description\": \"Returns a random number between min_value and max_value\",\n",
      "    \"parameters\": {\n",
      "      \"type\": \"object\",\n",
      "      \"properties\": {\n",
      "        \"min_value\": {\n",
      "          \"type\": \"integer\"\n",
      "        },\n",
      "        \"max_value\": {\n",
      "          \"type\": \"integer\"\n",
      "        }\n",
      "      },\n",
      "      \"required\": [\n",
      "        \"min_value\",\n",
      "        \"max_value\"\n",
      "      ]\n",
      "    }\n",
      "  },\n",
      "  {\n",
      "    \"name\": \"get_current_time\",\n",
      "    \"description\": \"Returns the current time in the specified time zone and format\",\n",
      "    \"parameters\": {\n",
      "      \"type\": \"object\",\n",
      "      \"properties\": {\n",
      "        \"time_zone\": {\n",
      "          \"type\": \"string\"\n",
      "        },\n",
      "        \"format\": {\n",
      "          \"type\": \"string\"\n",
      "        }\n",
      "      },\n",
      "      \"required\": [\n",
      "        \"time_zone\",\n",
      "        \"format\"\n",
      "      ]\n",
      "    }\n",
      "  },\n",
      "  {\n",
      "    \"name\": \"get_user_location\",\n",
      "    \"description\": \"Returns the user's location based on the provided IP address and accuracy level\",\n",
      "    \"parameters\": {\n",
      "      \"type\": \"object\",\n",
      "      \"properties\": {\n",
      "        \"ip_address\": {\n",
      "          \"type\": \"string\"\n",
      "        },\n",
      "        \"accuracy\": {\n",
      "          \"type\": \"integer\"\n",
      "        }\n",
      "      },\n",
      "      \"required\": [\n",
      "        \"ip_address\",\n",
      "        \"accuracy\"\n",
      "      ]\n",
      "    }\n",
      "  }\n",
      "]\n"
     ]
    }
   ],
   "source": [
    "import json\n",
    "\n",
    "\n",
    "print(json.dumps(tools, indent=2))"
   ]
  },
  {
   "cell_type": "code",
   "execution_count": 40,
   "metadata": {},
   "outputs": [],
   "source": [
    "from openai import OpenAI\n",
    "\n",
    "client = OpenAI(\n",
    "    base_url = 'http://localhost:11434/v1',\n",
    "    api_key='ollama', # required, but unused\n",
    ")"
   ]
  },
  {
   "cell_type": "code",
   "execution_count": null,
   "metadata": {},
   "outputs": [],
   "source": [
    "response = client.chat.completions.create(\n",
    "    model=\"interstellarninja/hermes-2-theta-llama-3-8b:latest\",\n",
    "    messages = [\n",
    "        {\"role\": \"user\", \"content\": \"what's the weather like today in Paris?\"}\n",
    "    ],\n",
    "    tools=tools\n",
    ")"
   ]
  },
  {
   "cell_type": "code",
   "execution_count": null,
   "metadata": {},
   "outputs": [],
   "source": [
    "print(response)"
   ]
  }
 ],
 "metadata": {
  "kernelspec": {
   "display_name": "Python 3",
   "language": "python",
   "name": "python3"
  },
  "language_info": {
   "codemirror_mode": {
    "name": "ipython",
    "version": 3
   },
   "file_extension": ".py",
   "mimetype": "text/x-python",
   "name": "python",
   "nbconvert_exporter": "python",
   "pygments_lexer": "ipython3",
   "version": "3.12.2"
  }
 },
 "nbformat": 4,
 "nbformat_minor": 2
}
